{
  "metadata": {
    "kernelspec": {
      "name": "python",
      "display_name": "Python (Pyodide)",
      "language": "python"
    },
    "language_info": {
      "codemirror_mode": {
        "name": "python",
        "version": 3
      },
      "file_extension": ".py",
      "mimetype": "text/x-python",
      "name": "python",
      "nbconvert_exporter": "python",
      "pygments_lexer": "ipython3",
      "version": "3.8"
    }
  },
  "nbformat_minor": 4,
  "nbformat": 4,
  "cells": [
    {
      "cell_type": "code",
      "source": "import statsmodels.api as sm\nimport statsmodels.stats.sandwich_covariance as sw\nimport numpy as np\nimport pandas as pd",
      "metadata": {
        "trusted": true
      },
      "outputs": [],
      "execution_count": 42
    },
    {
      "cell_type": "code",
      "source": "df_tol = pd.read_csv(r'/drive/data/TOL.csv')",
      "metadata": {
        "trusted": true
      },
      "outputs": [],
      "execution_count": 43
    },
    {
      "cell_type": "code",
      "source": "df_tol['Date']",
      "metadata": {
        "trusted": true
      },
      "outputs": [
        {
          "execution_count": 44,
          "output_type": "execute_result",
          "data": {
            "text/plain": "0      2021-01-04\n1      2021-01-05\n2      2021-01-06\n3      2021-01-07\n4      2021-01-08\n          ...    \n748    2023-12-22\n749    2023-12-26\n750    2023-12-27\n751    2023-12-28\n752    2023-12-29\nName: Date, Length: 753, dtype: object"
          },
          "metadata": {}
        }
      ],
      "execution_count": 44
    },
    {
      "cell_type": "code",
      "source": "df_tol['Close']",
      "metadata": {
        "trusted": true
      },
      "outputs": [
        {
          "execution_count": 45,
          "output_type": "execute_result",
          "data": {
            "text/plain": "0       42.660000\n1       42.410000\n2       42.360001\n3       44.220001\n4       42.970001\n          ...    \n748    103.570000\n749    103.470001\n750    104.059998\n751    103.529999\n752    102.790001\nName: Close, Length: 753, dtype: float64"
          },
          "metadata": {}
        }
      ],
      "execution_count": 45
    },
    {
      "cell_type": "code",
      "source": "#--y = np.asarray(df_tol['Close']).astype(float)\nX = pd.to_datetime(df_tol['Date']).apply(lambda x: x.toordinal()) \nX = np.asarray(sm.add_constant(X))",
      "metadata": {
        "trusted": true
      },
      "outputs": [],
      "execution_count": 46
    },
    {
      "cell_type": "code",
      "source": "model = sm.OLS(df_tol['Close'], X).fit()",
      "metadata": {
        "trusted": true
      },
      "outputs": [],
      "execution_count": 47
    },
    {
      "cell_type": "code",
      "source": "print(model.summary())",
      "metadata": {
        "trusted": true
      },
      "outputs": [
        {
          "name": "stdout",
          "text": "                            OLS Regression Results                            \n==============================================================================\nDep. Variable:                  Close   R-squared:                       0.230\nModel:                            OLS   Adj. R-squared:                  0.229\nMethod:                 Least Squares   F-statistic:                     224.5\nDate:                Thu, 06 Jun 2024   Prob (F-statistic):           1.37e-44\nTime:                        13:56:34   Log-Likelihood:                -2882.1\nNo. Observations:                 753   AIC:                             5768.\nDf Residuals:                     751   BIC:                             5777.\nDf Model:                           1                                         \nCovariance Type:            nonrobust                                         \n==============================================================================\n                 coef    std err          t      P>|t|      [0.025      0.975]\n------------------------------------------------------------------------------\nconst      -1.417e+04    949.775    -14.919      0.000    -1.6e+04   -1.23e+04\nx1             0.0193      0.001     14.982      0.000       0.017       0.022\n==============================================================================\nOmnibus:                        7.121   Durbin-Watson:                   0.015\nProb(Omnibus):                  0.028   Jarque-Bera (JB):                5.878\nSkew:                           0.133   Prob(JB):                       0.0529\nKurtosis:                       2.658   Cond. No.                     1.73e+09\n==============================================================================\n\nNotes:\n[1] Standard Errors assume that the covariance matrix of the errors is correctly specified.\n[2] The condition number is large, 1.73e+09. This might indicate that there are\nstrong multicollinearity or other numerical problems.\n",
          "output_type": "stream"
        }
      ],
      "execution_count": 48
    },
    {
      "cell_type": "code",
      "source": "hac_cov = sw.cov_hac(model, 1)",
      "metadata": {
        "trusted": true
      },
      "outputs": [],
      "execution_count": 49
    },
    {
      "cell_type": "code",
      "source": "s = model.get_robustcov_results(cov_type='HAC', maxlags=1)\nprint(s.summary())",
      "metadata": {
        "trusted": true
      },
      "outputs": [
        {
          "name": "stdout",
          "text": "                            OLS Regression Results                            \n==============================================================================\nDep. Variable:                  Close   R-squared:                       0.230\nModel:                            OLS   Adj. R-squared:                  0.229\nMethod:                 Least Squares   F-statistic:                     110.7\nDate:                Thu, 06 Jun 2024   Prob (F-statistic):           3.04e-24\nTime:                        13:56:34   Log-Likelihood:                -2882.1\nNo. Observations:                 753   AIC:                             5768.\nDf Residuals:                     751   BIC:                             5777.\nDf Model:                           1                                         \nCovariance Type:                  HAC                                         \n==============================================================================\n                 coef    std err          t      P>|t|      [0.025      0.975]\n------------------------------------------------------------------------------\nconst      -1.417e+04   1352.214    -10.479      0.000   -1.68e+04   -1.15e+04\nx1             0.0193      0.002     10.521      0.000       0.016       0.023\n==============================================================================\nOmnibus:                        7.121   Durbin-Watson:                   0.015\nProb(Omnibus):                  0.028   Jarque-Bera (JB):                5.878\nSkew:                           0.133   Prob(JB):                       0.0529\nKurtosis:                       2.658   Cond. No.                     1.73e+09\n==============================================================================\n\nNotes:\n[1] Standard Errors are heteroscedasticity and autocorrelation robust (HAC) using 1 lags and without small sample correction\n[2] The condition number is large, 1.73e+09. This might indicate that there are\nstrong multicollinearity or other numerical problems.\n",
          "output_type": "stream"
        }
      ],
      "execution_count": 50
    },
    {
      "cell_type": "raw",
      "source": "",
      "metadata": {}
    }
  ]
}